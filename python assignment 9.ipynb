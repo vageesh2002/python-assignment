{
 "cells": [
  {
   "cell_type": "markdown",
   "id": "8a9d9c46",
   "metadata": {},
   "source": [
    "1.To what does a relative path refer ?\n",
    "\n",
    "Ans: The relative path is the path to some file with respect to your current working directory (PWD).\n",
    "\n",
    "For example: if Absolute path to a file called stuff.txt is: C:/users/admin/docs/stuff.txt If my PWD is C:/users/admin/ , then the relative path to stuff.txt would be: docs/stuff.txt\n",
    "\n",
    "Note: PWD + relative path = absolute path"
   ]
  },
  {
   "cell_type": "markdown",
   "id": "10ae48c1",
   "metadata": {},
   "source": [
    "2.Where does an absolute path start with your Operating System ?\n",
    "\n",
    "Ans: In Linux based systems the absolute path starts with /. Where as in Windows based systems absolute path starts with C:"
   ]
  },
  {
   "cell_type": "markdown",
   "id": "1da1307e",
   "metadata": {},
   "source": [
    "3.What does the functions os.getcwd() and os.chdir() do ?\n",
    "\n",
    "Ans: os.getcwd() method tells us the location of current working directory (CWD). Whereas os.chdir() method in Python used to change the current working directory to specified path. These functions are similar to linux commands pwd and cd"
   ]
  },
  {
   "cell_type": "markdown",
   "id": "8b04622a",
   "metadata": {},
   "source": [
    "4.What are . and .. folders ?\n",
    "\n",
    "Ans: . Represents the Current Directory Whereas .. Represents the Parent Directory of the Current Directory"
   ]
  },
  {
   "cell_type": "markdown",
   "id": "8a218fc5",
   "metadata": {},
   "source": [
    "5.In C:\\bacon\\eggs\\spam.txt which part is the dir name and which part is the base name ?\n",
    "\n",
    "Ans: For C:\\bacon\\eggs\\spam.txt\n",
    "\n",
    "The dir name is C:\\\\bacon\\\\eggs\n",
    "\n",
    "The Base name is spam.txt"
   ]
  },
  {
   "cell_type": "code",
   "execution_count": 2,
   "id": "b8bfdb59",
   "metadata": {},
   "outputs": [
    {
     "name": "stdout",
     "output_type": "stream",
     "text": [
      "C:\\bacon\\eggs\n",
      "spam.txt\n"
     ]
    }
   ],
   "source": [
    "import os\n",
    "path = r'C:\\bacon\\eggs\\spam.txt'\n",
    "print(os.path.dirname(path))\n",
    "print(os.path.basename(path))"
   ]
  },
  {
   "cell_type": "markdown",
   "id": "25a48e6e",
   "metadata": {},
   "source": [
    "6.What are the three mode arguments that can be passed to the open() function ?\n",
    "\n",
    "Ans: A file can be Accessed in python using open() function. open function takes two arguments filename and mode of operation (optional). if mode is not provided the default mode of opening is read mode\n",
    "So, the syntax being: open(filename, mode)\n",
    "\n",
    "1.‘r’ – Read Mode: This is the default mode for open(). The file is opened and a pointer is positioned at the beginning of the file’s content.\n",
    "\n",
    "2.‘w’ – Write Mode: Using this mode will overwrite any existing content in a file. If the given file does not exist, a new one will be created.\n",
    "\n",
    "3.‘r+’ – Read/Write Mode: Use this mode if you need to simultaneously read and write to a file.\n",
    "\n",
    "4.‘a’ – Append Mode: With this mode the user can append the data without overwriting any already existing data in the file.\n",
    "\n",
    "5.‘a+’ – Append and Read Mode: In this mode you can read and append the data without overwriting the original file.\n",
    "\n",
    "6.‘x’ – Exclusive Creating Mode: This mode is for the sole purpose of creating new files. Use this mode if you know the file to be written doesn’t exist beforehand."
   ]
  },
  {
   "cell_type": "markdown",
   "id": "332c4a16",
   "metadata": {},
   "source": [
    "7.What happens if an existing file is opened in write mode ?\n",
    "\n",
    "Ans: Using this mode will overwrite any existing content in a file. If the given file does not exist, a new one will be created."
   ]
  },
  {
   "cell_type": "markdown",
   "id": "785b4f89",
   "metadata": {},
   "source": [
    "8.How do you tell the difference between read() and readlines() ?\n",
    "\n",
    "Ans: The main difference is that read() will read the whole file at once and then print out the first characters that take up as many bytes as you specify in the parenthesis\n",
    "\n",
    "1.Whereas the readline() that will read and print out only the first characters that take up as many bytes as you specify in the parenthesis. You may want to use readline() when you're reading files that are too big for your RAM.\n",
    "\n",
    "2.The read() would treat each character in the file separately, meaning that the iteration would happen for every character.\n",
    "\n",
    "3.The readline() function, on the other hand, only reads a single line of the file. This means that if the first line of the file were three lines long, the readline() function would only parse (or iterate/operate) on the first line of the file."
   ]
  },
  {
   "cell_type": "markdown",
   "id": "b11827b0",
   "metadata": {},
   "source": [
    "9.What data structure does a shelf value resemble ?\n",
    "Ans: it contains key and values it represents dictionary."
   ]
  },
  {
   "cell_type": "code",
   "execution_count": null,
   "id": "a498eeeb",
   "metadata": {},
   "outputs": [],
   "source": []
  }
 ],
 "metadata": {
  "kernelspec": {
   "display_name": "Python 3 (ipykernel)",
   "language": "python",
   "name": "python3"
  },
  "language_info": {
   "codemirror_mode": {
    "name": "ipython",
    "version": 3
   },
   "file_extension": ".py",
   "mimetype": "text/x-python",
   "name": "python",
   "nbconvert_exporter": "python",
   "pygments_lexer": "ipython3",
   "version": "3.9.12"
  }
 },
 "nbformat": 4,
 "nbformat_minor": 5
}
