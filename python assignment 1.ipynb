{
 "cells": [
  {
   "cell_type": "markdown",
   "id": "f2da5ff3",
   "metadata": {},
   "source": [
    "1.In the below elements which of them are values or an expression? eg:- values can be integer or string and expressions will be mathematical operators.\n",
    "\n",
    "*,'hello', -87.8,-,/,+,6\n",
    "\n",
    "Ans: There are a total of 4 Operators and 3 Expressions, They are:\n",
    "\n",
    "Operators: *,-,/,+\n",
    "\n",
    "Expressions: 'hello', 87.8, 6"
   ]
  },
  {
   "cell_type": "markdown",
   "id": "10f45692",
   "metadata": {},
   "source": [
    "2.What is the difference between string and variable?\n",
    "\n",
    "Ans: A Variable is used to store of information, and a String is a type of information you would store in a Variable. A String is a group of characters or a single character usually enclosed in Double quotes \" \" or single quotes ' '"
   ]
  },
  {
   "cell_type": "markdown",
   "id": "9088a08c",
   "metadata": {},
   "source": [
    "3.Describe three different Data Types ?\n",
    "\n",
    "Ans: Three fundamental Data types in python are int, float, complex.\n",
    "\n",
    "1.int data type: We can use int data type to represent whole numbers (integral values)\n",
    "\n",
    "2.float data type: We can use float data type to represent floating point values (decimal values)\n",
    "\n",
    "3.complex data type: Complex number is represented by complex class. It is specified as (real part) + (imaginary part)j."
   ]
  },
  {
   "cell_type": "markdown",
   "id": "58c16834",
   "metadata": {},
   "source": [
    "4.What is an expression made up of? What do all expressions do?\n",
    "\n",
    "Ans: An expression is a combination of values, variables, operators, and calls to functions. Expressions need to be evaluated. If we ask Python to print an expression, the interpreter evaluates the expression and displays the result."
   ]
  },
  {
   "cell_type": "markdown",
   "id": "8e992af6",
   "metadata": {},
   "source": [
    "5.This assignment statements, like spam = 10. What is the difference between an expression and a statement?\n",
    "\n",
    "\n",
    "Ans: An expression is a combination of values, variables, and operators.When we type an expression at the prompt, the interpreter evaluates it, which means that it finds the value of the expression."
   ]
  },
  {
   "cell_type": "markdown",
   "id": "cc08011d",
   "metadata": {},
   "source": [
    "6.After running the following code, what does the variable bacon contain?\n",
    "bacon = 22\n",
    "bacon + 1\n",
    "\n",
    "Ans: The variable bacon is set to 22 .The expression bacon + 1 does not reassign the value in bacon (that would the case if the expression is like bacon = bacon + 1 instead of bacon + 1)"
   ]
  },
  {
   "cell_type": "code",
   "execution_count": 1,
   "id": "25745591",
   "metadata": {},
   "outputs": [
    {
     "name": "stdout",
     "output_type": "stream",
     "text": [
      "22\n"
     ]
    }
   ],
   "source": [
    "bacon=22\n",
    "bacon+1\n",
    "print(bacon)"
   ]
  },
  {
   "cell_type": "markdown",
   "id": "9c4cfe3e",
   "metadata": {},
   "source": [
    "7.What should the values of the following two terms be?\n",
    "\n",
    "'spam'+'spamspam'\n",
    "'spam'*3\n",
    "\n",
    "Ans: Both expressions evaluate to the string 'spamspamspam' Where as the first expression follows String Concatentation and the second expression follows String Multiplication"
   ]
  },
  {
   "cell_type": "code",
   "execution_count": 2,
   "id": "c37147a7",
   "metadata": {},
   "outputs": [
    {
     "name": "stdout",
     "output_type": "stream",
     "text": [
      "spamspamspam\n",
      "spamspamspam\n"
     ]
    }
   ],
   "source": [
    "print('spam'+'spamspam') \n",
    "print('spam'*3) "
   ]
  },
  {
   "cell_type": "markdown",
   "id": "37b9a7e3",
   "metadata": {},
   "source": [
    "8.Why is eggs a valid variable name while 100 is invalid?\n",
    "\n",
    "Ans: As per python,Variable names cannot begin with a number. The python rules for naming a variable are :-\n",
    "\n",
    "1.Variable name must start with a letter or the underscore character.\n",
    "\n",
    "2.Variable name cannot start with a number.\n",
    "\n",
    "3.Variable name can only contain alpha-numeric characters and underscores (A-z, 0-9, & _ ).\n",
    "\n",
    "4.Variable names are case-sensitive (name, INEURON and ineuron are three different variables).\n",
    "\n",
    "5.The reserved words(keywords) cannot be used naming the variable."
   ]
  },
  {
   "cell_type": "markdown",
   "id": "c60784b6",
   "metadata": {},
   "source": [
    "9.What three functions can be used to get the integer,floating-point number,or string version of a value?\n",
    "\n",
    "Ans: The int(),float(),and str() functions will evaluate to the integer,floating-point number,string version of the value passed to them."
   ]
  },
  {
   "cell_type": "markdown",
   "id": "c87fe176",
   "metadata": {},
   "source": [
    "10.Why does this expression cause an error? how can you fix it?\n",
    "\n",
    "'I have eaten ' + 99 + 'burritos.'\n",
    "\n",
    "Ans: This cause of error is 99.because 99 is not a string. 99 must be typecasted to a string to fix this error. the correct way is:\n",
    "\n",
    "Input: 'I have eaten ' + str(99) + 'burritos.'\n",
    "Output: 'I have eaten 99 burritos.'"
   ]
  },
  {
   "cell_type": "code",
   "execution_count": null,
   "id": "f3571742",
   "metadata": {},
   "outputs": [],
   "source": []
  }
 ],
 "metadata": {
  "kernelspec": {
   "display_name": "Python 3 (ipykernel)",
   "language": "python",
   "name": "python3"
  },
  "language_info": {
   "codemirror_mode": {
    "name": "ipython",
    "version": 3
   },
   "file_extension": ".py",
   "mimetype": "text/x-python",
   "name": "python",
   "nbconvert_exporter": "python",
   "pygments_lexer": "ipython3",
   "version": "3.9.12"
  }
 },
 "nbformat": 4,
 "nbformat_minor": 5
}
